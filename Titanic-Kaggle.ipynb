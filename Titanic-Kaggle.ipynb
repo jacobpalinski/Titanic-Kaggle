{
 "cells": [
  {
   "cell_type": "code",
   "execution_count": 42,
   "metadata": {},
   "outputs": [],
   "source": [
    "# Relevant imports\n",
    "import pandas as pd\n",
    "import seaborn as sns\n",
    "import matplotlib.pyplot as plt\n",
    "from sklearn.model_selection import train_test_split, cross_val_score\n",
    "from sklearn.pipeline import Pipeline\n",
    "from sklearn.compose import ColumnTransformer\n",
    "from sklearn.impute import SimpleImputer\n",
    "from sklearn.preprocessing import StandardScaler, OneHotEncoder, LabelEncoder\n",
    "from sklearn.feature_selection import mutual_info_classif"
   ]
  },
  {
   "cell_type": "code",
   "execution_count": 43,
   "metadata": {},
   "outputs": [],
   "source": [
    "# Import train + test datasets and split data\n",
    "train_data = pd.read_csv('/mnt/c/Users/kpali/Documents/ML/Titanic-Kaggle/train.csv')\n",
    "test_data = pd.read_csv('/mnt/c/Users/kpali/Documents/ML/Titanic-Kaggle/test.csv')\n",
    "X = train_data.drop('Survived', axis=1)\n",
    "y = train_data['Survived']\n",
    "X_train, X_valid, y_train, y_valid = train_test_split(X, y, test_size=0.2, random_state=1)\n"
   ]
  },
  {
   "cell_type": "code",
   "execution_count": 44,
   "metadata": {},
   "outputs": [
    {
     "data": {
      "text/plain": [
       "(712, 11)"
      ]
     },
     "execution_count": 44,
     "metadata": {},
     "output_type": "execute_result"
    }
   ],
   "source": [
    "# Check number of rows\n",
    "X_train.shape"
   ]
  },
  {
   "cell_type": "code",
   "execution_count": 45,
   "metadata": {},
   "outputs": [
    {
     "data": {
      "text/plain": [
       "PassengerId      0\n",
       "Pclass           0\n",
       "Name             0\n",
       "Sex              0\n",
       "Age            144\n",
       "SibSp            0\n",
       "Parch            0\n",
       "Ticket           0\n",
       "Fare             0\n",
       "Cabin          547\n",
       "Embarked         2\n",
       "dtype: int64"
      ]
     },
     "execution_count": 45,
     "metadata": {},
     "output_type": "execute_result"
    }
   ],
   "source": [
    "# Counts of nulls per column\n",
    "X_train.isnull().sum()"
   ]
  },
  {
   "cell_type": "code",
   "execution_count": 46,
   "metadata": {},
   "outputs": [],
   "source": [
    "# Drop Cabin column as it doesn't contain enough useful information\n",
    "X_train = X_train.drop('Cabin', axis=1)"
   ]
  },
  {
   "cell_type": "code",
   "execution_count": 47,
   "metadata": {},
   "outputs": [
    {
     "name": "stdout",
     "output_type": "stream",
     "text": [
      "     PassengerId  Pclass                                       Name     Sex  \\\n",
      "61            62       1                        Icard, Miss. Amelie  female   \n",
      "829          830       1  Stone, Mrs. George Nelson (Martha Evelyn)  female   \n",
      "\n",
      "      Age  SibSp  Parch  Ticket  Fare Embarked  \n",
      "61   38.0      0      0  113572  80.0      NaN  \n",
      "829  62.0      0      0  113572  80.0      NaN  \n",
      "     PassengerId  Pclass                                               Name  \\\n",
      "829          830       1          Stone, Mrs. George Nelson (Martha Evelyn)   \n",
      "319          320       1  Spedden, Mrs. Frederic Oakley (Margaretta Corn...   \n",
      "\n",
      "        Sex   Age  SibSp  Parch  Ticket   Fare Embarked  \n",
      "829  female  62.0      0      0  113572   80.0      NaN  \n",
      "319  female  40.0      1      1   16966  134.5        C  \n",
      "    PassengerId  Pclass                 Name     Sex   Age  SibSp  Parch  \\\n",
      "61           62       1  Icard, Miss. Amelie  female  38.0      0      0   \n",
      "\n",
      "    Ticket  Fare Embarked  \n",
      "61  113572  80.0      NaN  \n"
     ]
    }
   ],
   "source": [
    "# Checkout missing Embarked values and see if there are passengers with similar name for imputation\n",
    "print(X_train[X_train['Embarked'].isnull()])\n",
    "print(X_train[X_train['Name'].str.contains(r'Stone', regex=True)])\n",
    "print(X_train[X_train['Name'].str.contains(r'Icard', regex=True)])"
   ]
  },
  {
   "cell_type": "code",
   "execution_count": 48,
   "metadata": {},
   "outputs": [],
   "source": [
    "# Drop null values for X_train and y_train \n",
    "null_embarked_indexes = X_train[X_train['Embarked'].isnull()].index.tolist()\n",
    "X_train = X_train.drop(null_embarked_indexes)\n",
    "y_train = y_train.drop(null_embarked_indexes)\n"
   ]
  },
  {
   "cell_type": "code",
   "execution_count": 61,
   "metadata": {},
   "outputs": [
    {
     "name": "stdout",
     "output_type": "stream",
     "text": [
      "count    710.000000\n",
      "mean      30.096148\n",
      "std       13.228302\n",
      "min        0.420000\n",
      "25%       22.000000\n",
      "50%       30.096148\n",
      "75%       36.000000\n",
      "max       80.000000\n",
      "Name: Age, dtype: float64\n"
     ]
    },
    {
     "data": {
      "text/plain": [
       "<Axes: title={'center': 'Histogram of Age'}, xlabel='Age', ylabel='Frequency'>"
      ]
     },
     "execution_count": 61,
     "metadata": {},
     "output_type": "execute_result"
    },
    {
     "data": {
      "image/png": "[encoded data removed]",
      "text/plain": [
       "<Figure size 640x480 with 1 Axes>"
      ]
     },
     "metadata": {},
     "output_type": "display_data"
    }
   ],
   "source": [
    "# Age Distribution\n",
    "print(X_train['Age'].describe())\n",
    "plt.title('Histogram of Age')\n",
    "plt.xlabel('Age')\n",
    "plt.ylabel('Frequency')\n",
    "X_train['Age'].hist()"
   ]
  },
  {
   "cell_type": "code",
   "execution_count": 50,
   "metadata": {},
   "outputs": [],
   "source": [
    "# Impute age\n",
    "mean_imputation = SimpleImputer(strategy='mean')\n",
    "age_imputed = mean_imputation.fit_transform(X_train[['Age']])\n",
    "X_train['Age'] = age_imputed"
   ]
  },
  {
   "cell_type": "code",
   "execution_count": 51,
   "metadata": {},
   "outputs": [
    {
     "data": {
      "text/plain": [
       "PassengerId      int64\n",
       "Pclass           int64\n",
       "Name            object\n",
       "Sex             object\n",
       "Age            float64\n",
       "SibSp            int64\n",
       "Parch            int64\n",
       "Ticket          object\n",
       "Fare           float64\n",
       "Embarked        object\n",
       "dtype: object"
      ]
     },
     "execution_count": 51,
     "metadata": {},
     "output_type": "execute_result"
    }
   ],
   "source": [
    "X_train.dtypes"
   ]
  },
  {
   "cell_type": "code",
   "execution_count": 52,
   "metadata": {},
   "outputs": [
    {
     "data": {
      "text/plain": [
       "Sex            0.136966\n",
       "Fare           0.127450\n",
       "Ticket         0.099317\n",
       "Pclass         0.035620\n",
       "SibSp          0.012663\n",
       "Parch          0.007842\n",
       "Age            0.001573\n",
       "PassengerId    0.000000\n",
       "Name           0.000000\n",
       "Embarked       0.000000\n",
       "Name: MI Scores, dtype: float64"
      ]
     },
     "execution_count": 52,
     "metadata": {},
     "output_type": "execute_result"
    }
   ],
   "source": [
    "# Compute mutual information score\n",
    "def calc_mi_scores(X:pd.DataFrame,y:pd.Series):\n",
    "    le = LabelEncoder()\n",
    "    X_mi = X.copy()\n",
    "    for col in X_mi.select_dtypes(\"object\").columns:\n",
    "        X_mi[col] = le.fit_transform(X_mi[col])\n",
    "    mi_scores = mutual_info_classif(X_mi,y)\n",
    "    mi_scores = pd.Series(mi_scores, name=\"MI Scores\", index=X_mi.columns)\n",
    "    mi_scores = mi_scores.sort_values(ascending=False)\n",
    "    return mi_scores\n",
    "\n",
    "calc_mi_scores(X_train, y_train)"
   ]
  },
  {
   "cell_type": "code",
   "execution_count": 53,
   "metadata": {},
   "outputs": [],
   "source": [
    "# Dropping unimportant features\n",
    "X_train = X_train.drop(['Name', 'PassengerId', 'Embarked'], axis=1)"
   ]
  },
  {
   "cell_type": "code",
   "execution_count": 64,
   "metadata": {},
   "outputs": [
    {
     "data": {
      "text/html": [
       "<div>\n",
       "<style scoped>\n",
       "    .dataframe tbody tr th:only-of-type {\n",
       "        vertical-align: middle;\n",
       "    }\n",
       "\n",
       "    .dataframe tbody tr th {\n",
       "        vertical-align: top;\n",
       "    }\n",
       "\n",
       "    .dataframe thead th {\n",
       "        text-align: right;\n",
       "    }\n",
       "</style>\n",
       "<table border=\"1\" class=\"dataframe\">\n",
       "  <thead>\n",
       "    <tr style=\"text-align: right;\">\n",
       "      <th></th>\n",
       "      <th>Pclass</th>\n",
       "      <th>Sex</th>\n",
       "      <th>Age</th>\n",
       "      <th>SibSp</th>\n",
       "      <th>Parch</th>\n",
       "      <th>Ticket</th>\n",
       "      <th>Fare</th>\n",
       "    </tr>\n",
       "  </thead>\n",
       "  <tbody>\n",
       "    <tr>\n",
       "      <th>301</th>\n",
       "      <td>3</td>\n",
       "      <td>male</td>\n",
       "      <td>30.096148</td>\n",
       "      <td>2</td>\n",
       "      <td>0</td>\n",
       "      <td>367226</td>\n",
       "      <td>23.2500</td>\n",
       "    </tr>\n",
       "    <tr>\n",
       "      <th>309</th>\n",
       "      <td>1</td>\n",
       "      <td>female</td>\n",
       "      <td>30.000000</td>\n",
       "      <td>0</td>\n",
       "      <td>0</td>\n",
       "      <td>PC 17485</td>\n",
       "      <td>56.9292</td>\n",
       "    </tr>\n",
       "    <tr>\n",
       "      <th>516</th>\n",
       "      <td>2</td>\n",
       "      <td>female</td>\n",
       "      <td>34.000000</td>\n",
       "      <td>0</td>\n",
       "      <td>0</td>\n",
       "      <td>C.A. 34260</td>\n",
       "      <td>10.5000</td>\n",
       "    </tr>\n",
       "    <tr>\n",
       "      <th>120</th>\n",
       "      <td>2</td>\n",
       "      <td>male</td>\n",
       "      <td>21.000000</td>\n",
       "      <td>2</td>\n",
       "      <td>0</td>\n",
       "      <td>S.O.C. 14879</td>\n",
       "      <td>73.5000</td>\n",
       "    </tr>\n",
       "    <tr>\n",
       "      <th>570</th>\n",
       "      <td>2</td>\n",
       "      <td>male</td>\n",
       "      <td>62.000000</td>\n",
       "      <td>0</td>\n",
       "      <td>0</td>\n",
       "      <td>S.W./PP 752</td>\n",
       "      <td>10.5000</td>\n",
       "    </tr>\n",
       "  </tbody>\n",
       "</table>\n",
       "</div>"
      ],
      "text/plain": [
       "     Pclass     Sex        Age  SibSp  Parch        Ticket     Fare\n",
       "301       3    male  30.096148      2      0        367226  23.2500\n",
       "309       1  female  30.000000      0      0      PC 17485  56.9292\n",
       "516       2  female  34.000000      0      0    C.A. 34260  10.5000\n",
       "120       2    male  21.000000      2      0  S.O.C. 14879  73.5000\n",
       "570       2    male  62.000000      0      0   S.W./PP 752  10.5000"
      ]
     },
     "execution_count": 64,
     "metadata": {},
     "output_type": "execute_result"
    }
   ],
   "source": [
    "X_train.head()"
   ]
  },
  {
   "cell_type": "code",
   "execution_count": 65,
   "metadata": {},
   "outputs": [
    {
     "data": {
      "text/html": [
       "<div>\n",
       "<style scoped>\n",
       "    .dataframe tbody tr th:only-of-type {\n",
       "        vertical-align: middle;\n",
       "    }\n",
       "\n",
       "    .dataframe tbody tr th {\n",
       "        vertical-align: top;\n",
       "    }\n",
       "\n",
       "    .dataframe thead th {\n",
       "        text-align: right;\n",
       "    }\n",
       "</style>\n",
       "<table border=\"1\" class=\"dataframe\">\n",
       "  <thead>\n",
       "    <tr style=\"text-align: right;\">\n",
       "      <th></th>\n",
       "      <th>Pclass</th>\n",
       "      <th>Sex</th>\n",
       "      <th>Age</th>\n",
       "      <th>SibSp</th>\n",
       "      <th>Parch</th>\n",
       "      <th>Ticket</th>\n",
       "      <th>Fare</th>\n",
       "      <th>Survived</th>\n",
       "    </tr>\n",
       "  </thead>\n",
       "  <tbody>\n",
       "    <tr>\n",
       "      <th>301</th>\n",
       "      <td>3</td>\n",
       "      <td>male</td>\n",
       "      <td>30.096148</td>\n",
       "      <td>2</td>\n",
       "      <td>0</td>\n",
       "      <td>367226</td>\n",
       "      <td>23.2500</td>\n",
       "      <td>1</td>\n",
       "    </tr>\n",
       "    <tr>\n",
       "      <th>309</th>\n",
       "      <td>1</td>\n",
       "      <td>female</td>\n",
       "      <td>30.000000</td>\n",
       "      <td>0</td>\n",
       "      <td>0</td>\n",
       "      <td>PC 17485</td>\n",
       "      <td>56.9292</td>\n",
       "      <td>1</td>\n",
       "    </tr>\n",
       "    <tr>\n",
       "      <th>516</th>\n",
       "      <td>2</td>\n",
       "      <td>female</td>\n",
       "      <td>34.000000</td>\n",
       "      <td>0</td>\n",
       "      <td>0</td>\n",
       "      <td>C.A. 34260</td>\n",
       "      <td>10.5000</td>\n",
       "      <td>1</td>\n",
       "    </tr>\n",
       "    <tr>\n",
       "      <th>120</th>\n",
       "      <td>2</td>\n",
       "      <td>male</td>\n",
       "      <td>21.000000</td>\n",
       "      <td>2</td>\n",
       "      <td>0</td>\n",
       "      <td>S.O.C. 14879</td>\n",
       "      <td>73.5000</td>\n",
       "      <td>0</td>\n",
       "    </tr>\n",
       "    <tr>\n",
       "      <th>570</th>\n",
       "      <td>2</td>\n",
       "      <td>male</td>\n",
       "      <td>62.000000</td>\n",
       "      <td>0</td>\n",
       "      <td>0</td>\n",
       "      <td>S.W./PP 752</td>\n",
       "      <td>10.5000</td>\n",
       "      <td>1</td>\n",
       "    </tr>\n",
       "  </tbody>\n",
       "</table>\n",
       "</div>"
      ],
      "text/plain": [
       "     Pclass     Sex        Age  SibSp  Parch        Ticket     Fare  Survived\n",
       "301       3    male  30.096148      2      0        367226  23.2500         1\n",
       "309       1  female  30.000000      0      0      PC 17485  56.9292         1\n",
       "516       2  female  34.000000      0      0    C.A. 34260  10.5000         1\n",
       "120       2    male  21.000000      2      0  S.O.C. 14879  73.5000         0\n",
       "570       2    male  62.000000      0      0   S.W./PP 752  10.5000         1"
      ]
     },
     "execution_count": 65,
     "metadata": {},
     "output_type": "execute_result"
    }
   ],
   "source": [
    "# Merge predictors and target into single dataframe\n",
    "merged_train = pd.merge(X_train, y_train, left_index=True, right_index=True)\n",
    "merged_train.head()"
   ]
  },
  {
   "cell_type": "code",
   "execution_count": 67,
   "metadata": {},
   "outputs": [],
   "source": [
    "# Generate frequency plot\n",
    "def generate_frequency_plot(column_name:str):\n",
    "    frequency = X_train[column_name].value_counts()\n",
    "    plt.title(f'Frequency by {column_name}')\n",
    "    plt.xlabel(f'{column_name}')\n",
    "    plt.ylabel('Frequency')\n",
    "    frequency.plot(kind='bar')"
   ]
  },
  {
   "cell_type": "code",
   "execution_count": 68,
   "metadata": {},
   "outputs": [
    {
     "data": {
      "image/png": "[encoded data removed]",
      "text/plain": [
       "<Figure size 640x480 with 1 Axes>"
      ]
     },
     "metadata": {},
     "output_type": "display_data"
    }
   ],
   "source": [
    "# Exploring Sex\n",
    "generate_frequency_plot('Sex')"
   ]
  },
  {
   "cell_type": "code",
   "execution_count": 66,
   "metadata": {},
   "outputs": [
    {
     "name": "stdout",
     "output_type": "stream",
     "text": [
      "Male survival rate:  18.3585313174946\n",
      "Female survival rate 73.68421052631578\n"
     ]
    }
   ],
   "source": [
    "# Calculate survival rates by gender\n",
    "survival_rate_male = 100.00 * (merged_train[merged_train['Sex'].isin(['male']) & merged_train['Survived'] == 1].shape[0] / merged_train[merged_train['Sex'].isin(['male'])].shape[0])\n",
    "survival_rate_female = 100.00 * (merged_train[merged_train['Sex'].isin(['female']) & merged_train['Survived'] == 1].shape[0] / merged_train[merged_train['Sex'].isin(['female'])].shape[0])\n",
    "print('Male survival rate: ', survival_rate_male)\n",
    "print('Female survival rate', survival_rate_female)"
   ]
  },
  {
   "cell_type": "code",
   "execution_count": 69,
   "metadata": {},
   "outputs": [
    {
     "data": {
      "image/png": "[encoded data removed]",
      "text/plain": [
       "<Figure size 640x480 with 1 Axes>"
      ]
     },
     "metadata": {},
     "output_type": "display_data"
    }
   ],
   "source": [
    "# Exploring Pclass\n",
    "generate_frequency_plot('Pclass')"
   ]
  },
  {
   "cell_type": "code",
   "execution_count": 71,
   "metadata": {},
   "outputs": [
    {
     "data": {
      "text/html": [
       "<div>\n",
       "<style scoped>\n",
       "    .dataframe tbody tr th:only-of-type {\n",
       "        vertical-align: middle;\n",
       "    }\n",
       "\n",
       "    .dataframe tbody tr th {\n",
       "        vertical-align: top;\n",
       "    }\n",
       "\n",
       "    .dataframe thead th {\n",
       "        text-align: right;\n",
       "    }\n",
       "</style>\n",
       "<table border=\"1\" class=\"dataframe\">\n",
       "  <thead>\n",
       "    <tr style=\"text-align: right;\">\n",
       "      <th></th>\n",
       "      <th>Pclass</th>\n",
       "      <th>sum</th>\n",
       "      <th>count</th>\n",
       "      <th>Survived_Percentage</th>\n",
       "    </tr>\n",
       "  </thead>\n",
       "  <tbody>\n",
       "    <tr>\n",
       "      <th>0</th>\n",
       "      <td>1</td>\n",
       "      <td>107</td>\n",
       "      <td>172</td>\n",
       "      <td>62.209302</td>\n",
       "    </tr>\n",
       "    <tr>\n",
       "      <th>1</th>\n",
       "      <td>2</td>\n",
       "      <td>73</td>\n",
       "      <td>150</td>\n",
       "      <td>48.666667</td>\n",
       "    </tr>\n",
       "    <tr>\n",
       "      <th>2</th>\n",
       "      <td>3</td>\n",
       "      <td>87</td>\n",
       "      <td>388</td>\n",
       "      <td>22.422680</td>\n",
       "    </tr>\n",
       "  </tbody>\n",
       "</table>\n",
       "</div>"
      ],
      "text/plain": [
       "   Pclass  sum  count  Survived_Percentage\n",
       "0       1  107    172            62.209302\n",
       "1       2   73    150            48.666667\n",
       "2       3   87    388            22.422680"
      ]
     },
     "execution_count": 71,
     "metadata": {},
     "output_type": "execute_result"
    }
   ],
   "source": [
    "# Survival rate by within Pclass + aggregate\n",
    "survival_rate_by_pclass = merged_train.groupby(['Pclass'])['Survived'].agg(['sum','count']).reset_index()\n",
    "survival_rate_by_pclass['Survived_Percentage'] = 100.00 * (survival_rate_by_pclass['sum'] / survival_rate_by_pclass['count'])\n",
    "survival_rate_by_pclass.head()"
   ]
  },
  {
   "cell_type": "code",
   "execution_count": null,
   "metadata": {},
   "outputs": [],
   "source": []
  }
 ],
 "metadata": {
  "kernelspec": {
   "display_name": "venv",
   "language": "python",
   "name": "python3"
  },
  "language_info": {
   "codemirror_mode": {
    "name": "ipython",
    "version": 3
   },
   "file_extension": ".py",
   "mimetype": "text/x-python",
   "name": "python",
   "nbconvert_exporter": "python",
   "pygments_lexer": "ipython3",
   "version": "3.10.12"
  }
 },
 "nbformat": 4,
 "nbformat_minor": 2
}
